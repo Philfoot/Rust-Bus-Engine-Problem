{
 "cells": [
  {
   "cell_type": "code",
   "execution_count": 1,
   "metadata": {},
   "outputs": [],
   "source": [
    "## Import data and packages ##\n",
    "import pandas as pd\n",
    "import numpy as np\n",
    "import matplotlib.pyplot as plt\n",
    "import scipy.sparse as sparse"
   ]
  },
  {
   "cell_type": "code",
   "execution_count": 2,
   "metadata": {},
   "outputs": [],
   "source": [
    "## Upload data for error draws\n",
    "draws = pd.read_csv('draw.out',sep='              ',header=None,engine='python')\n",
    "draws = np.array(draws)"
   ]
  },
  {
   "cell_type": "code",
   "execution_count": 3,
   "metadata": {},
   "outputs": [
    {
     "name": "stdout",
     "output_type": "stream",
     "text": [
      "[-5.93269495 -6.83084801 -7.4876776  -7.95206643 -8.27516537 -8.49964733\n",
      " -8.65668353 -8.76757443 -8.84631755 -8.90005197 -8.90984461]\n"
     ]
    }
   ],
   "source": [
    "## Setup basic engine replacement model \n",
    "theta = np.array([0.3,0,4])\n",
    "lam = 0.8\n",
    "beta = 0.95\n",
    "\n",
    "trans_matrix = sparse.diags([.2,.8],[0,1],shape=(11,11)).toarray()\n",
    "trans_matrix[10,10]=1\n",
    "\n",
    "def value_function0(x_t,params):\n",
    "    val = -params[0]*x_t+-params[1]*x_t**2\n",
    "    return val\n",
    "\n",
    "def value_function1(params):\n",
    "    val = -params[2]\n",
    "    return val\n",
    "\n",
    "## Define value function iteration algorithm\n",
    "\n",
    "def iteration(epsilon,params,maxiter,n_steps):\n",
    "    values_matrix = np.full((n_steps,n_steps),-100.)    \n",
    "    values_temp = np.zeros(n_steps)\n",
    "    values = np.ones(n_steps)\n",
    "    state = np.linspace(0,10,n_steps)\n",
    "\n",
    "    diff = 1\n",
    "    i = 0\n",
    "    while diff > epsilon:\n",
    "        \n",
    "        no_change = value_function0(state,params)\n",
    "        change = value_function1(params)\n",
    "        \n",
    "        values_temp = .5772 + np.log(np.exp(no_change+beta*values)+np.exp(change+beta*values[0]))\n",
    "        values_temp = values_temp.dot(trans_matrix.T)\n",
    "        \n",
    "        diff = np.linalg.norm(values - values_temp)\n",
    "        values = values_temp\n",
    "        i+=1\n",
    "#         print(i)\n",
    "        if i == maxiter:\n",
    "            break\n",
    "            print(\"Max Iterations Reached\")\n",
    "        \n",
    "    return values, i, diff\n",
    "    \n",
    "results = iteration(.00001,theta,500,11)\n",
    "print(results[0])"
   ]
  },
  {
   "cell_type": "code",
   "execution_count": 4,
   "metadata": {
    "scrolled": true
   },
   "outputs": [
    {
     "data": {
      "text/plain": [
       "[<matplotlib.lines.Line2D at 0x168560906d8>]"
      ]
     },
     "execution_count": 4,
     "metadata": {},
     "output_type": "execute_result"
    },
    {
     "data": {
      "image/png": "[encoded data removed]",
      "text/plain": [
       "<Figure size 432x288 with 1 Axes>"
      ]
     },
     "metadata": {},
     "output_type": "display_data"
    }
   ],
   "source": [
    "## plot values at each state\n",
    "plt.plot(results[0])"
   ]
  },
  {
   "cell_type": "code",
   "execution_count": 5,
   "metadata": {},
   "outputs": [
    {
     "name": "stdout",
     "output_type": "stream",
     "text": [
      "[0.01798621 0.04608177 0.0951403  0.16539276 0.25225092 0.34872597\n",
      " 0.44756102 0.54249324 0.62859249 0.69927235 0.75872387]\n"
     ]
    },
    {
     "data": {
      "text/plain": [
       "[<matplotlib.lines.Line2D at 0x1685612ebe0>]"
      ]
     },
     "execution_count": 5,
     "metadata": {},
     "output_type": "execute_result"
    },
    {
     "data": {
      "image/png": "[encoded data removed]",
      "text/plain": [
       "<Figure size 432x288 with 1 Axes>"
      ]
     },
     "metadata": {},
     "output_type": "display_data"
    }
   ],
   "source": [
    "## Analytical Choice probability calculations\n",
    "def choice_prob_calc(exp_vals,params):\n",
    "    theta = params\n",
    "    choice_prob_temp = np.zeros(11)\n",
    "    v = exp_vals\n",
    "\n",
    "    for i in range(11):\n",
    "        state = i\n",
    "        if state == 10:\n",
    "            no_change = value_function0(state,theta) + beta*((1-lam)*v[state]+lam*v[state])\n",
    "        else:\n",
    "            no_change = value_function0(state,theta) + beta*((1-lam)*v[state]+lam*v[state+1])\n",
    "        change = value_function1(theta) + beta*((1-lam)*v[0]+lam*v[1])\n",
    "        choice_prob_temp[i] = np.exp(change)/(np.exp(no_change)+np.exp(change))\n",
    "    return choice_prob_temp\n",
    "        \n",
    "choice_prob = choice_prob_calc(results[0],theta)\n",
    "print(choice_prob)\n",
    "plt.plot(choice_prob)"
   ]
  },
  {
   "cell_type": "code",
   "execution_count": 6,
   "metadata": {},
   "outputs": [],
   "source": [
    "## Simulation Results\n",
    "def simulator(exp_val,seed):\n",
    "    v = exp_val\n",
    "    state = 0\n",
    "    mat_temp = np.zeros((5000,4)) \n",
    "\n",
    "    np.random.seed(seed)\n",
    "\n",
    "    draws_log = -np.log(-np.log(draws))\n",
    "\n",
    "    for i in range(5000):\n",
    "        if state == 10:\n",
    "            no_change = value_function0(state,theta) + beta*((1-lam)*v[state]+lam*v[state]) + draws_log[i,0]\n",
    "        else:\n",
    "            no_change = value_function0(state,theta) + beta*((1-lam)*v[state]+lam*v[state+1]) + draws_log[i,0]\n",
    "        change = value_function1(theta) + beta*((1-lam)*v[0]+lam*v[1]) + draws_log[i,1]\n",
    "        mat_temp[i,0]=state\n",
    "        mat_temp[i,1]=no_change\n",
    "        mat_temp[i,2]=change\n",
    "        if no_change <  change:\n",
    "            mat_temp[i,3] = 1\n",
    "            state = 0\n",
    "        else:\n",
    "            mat_temp[i,3] = 0\n",
    "\n",
    "        bi = np.random.binomial(1,p=.8)\n",
    "        if state < 10:\n",
    "            state += bi\n",
    "        else:\n",
    "            state = 10\n",
    "    return mat_temp\n",
    "\n",
    "choice_matrix = simulator(results[0],23)"
   ]
  },
  {
   "cell_type": "code",
   "execution_count": 7,
   "metadata": {},
   "outputs": [
    {
     "name": "stdout",
     "output_type": "stream",
     "text": [
      "State 0  average  0.02242152466367713\n",
      "State 1  average  0.04553734061930783\n",
      "State 2  average  0.08301526717557252\n",
      "State 3  average  0.17400881057268722\n",
      "State 4  average  0.24533715925394547\n",
      "State 5  average  0.352\n",
      "State 6  average  0.4206896551724138\n",
      "State 7  average  0.5496688741721855\n",
      "State 8  average  0.5964912280701754\n",
      "State 9  average  0.7\n",
      "State 10  average  0.625\n"
     ]
    }
   ],
   "source": [
    "## Calculate empirical choice probabilities from simulation\n",
    "def f_choice_prob(mat,state):\n",
    "    temp = mat[:,0]==state\n",
    "    if temp.any():\n",
    "        return mat[temp,3].mean()\n",
    "    else:\n",
    "        return 1\n",
    "    \n",
    "choice_prob_sim = np.zeros(11)    \n",
    "for i in range(11):\n",
    "    choice_prob_sim[i]=f_choice_prob(choice_matrix,i)\n",
    "    print(\"State\", i,\" average \",choice_prob_sim[i])"
   ]
  },
  {
   "cell_type": "code",
   "execution_count": 8,
   "metadata": {},
   "outputs": [
    {
     "data": {
      "text/plain": [
       "[<matplotlib.lines.Line2D at 0x168581c9d68>,\n",
       " <matplotlib.lines.Line2D at 0x168581c9ef0>]"
      ]
     },
     "execution_count": 8,
     "metadata": {},
     "output_type": "execute_result"
    },
    {
     "data": {
      "image/png": "[encoded data removed]",
      "text/plain": [
       "<Figure size 432x288 with 1 Axes>"
      ]
     },
     "metadata": {},
     "output_type": "display_data"
    }
   ],
   "source": [
    "## plot empirical vs. analytical choice probablities\n",
    "x = np.linspace(0,11,11)\n",
    "plt.plot(x,choice_prob,x,choice_prob_sim)"
   ]
  },
  {
   "cell_type": "code",
   "execution_count": 9,
   "metadata": {},
   "outputs": [
    {
     "name": "stdout",
     "output_type": "stream",
     "text": [
      "State 0  average  0.0446\n",
      "State 1  average  0.2642\n",
      "State 2  average  0.4738\n",
      "State 3  average  0.6554\n",
      "State 4  average  0.7948\n",
      "State 5  average  0.8948\n",
      "State 6  average  0.9528\n",
      "State 7  average  0.983\n",
      "State 8  average  0.9944\n",
      "State 9  average  0.9984\n",
      "State 10  average  1.0\n"
     ]
    }
   ],
   "source": [
    "## generate empirical cdf\n",
    "def f_emp_cdf(mat,state):\n",
    "    temp = mat[:,0] <= state\n",
    "    count = temp.sum()\n",
    "    return count\n",
    "    \n",
    "emp_cdf_sim = np.zeros(11)    \n",
    "for i in range(11):\n",
    "    emp_cdf_sim[i]=f_emp_cdf(choice_matrix,i)/5000\n",
    "    print(\"State\", i,\" average \",emp_cdf_sim[i])"
   ]
  },
  {
   "cell_type": "code",
   "execution_count": 10,
   "metadata": {},
   "outputs": [
    {
     "data": {
      "text/plain": [
       "[<matplotlib.lines.Line2D at 0x1685823d630>]"
      ]
     },
     "execution_count": 10,
     "metadata": {},
     "output_type": "execute_result"
    },
    {
     "data": {
      "image/png": "[encoded data removed]",
      "text/plain": [
       "<Figure size 432x288 with 1 Axes>"
      ]
     },
     "metadata": {},
     "output_type": "display_data"
    }
   ],
   "source": [
    "## plot empirical cdf\n",
    "plt.plot(emp_cdf_sim)"
   ]
  },
  {
   "cell_type": "code",
   "execution_count": 11,
   "metadata": {},
   "outputs": [],
   "source": [
    "## Define mle problem and setup estimate likelihood based on simulated results\n",
    "def mle_estimator(params,epsilon,maxiter):\n",
    "    \n",
    "    theta = params\n",
    "    print(theta)\n",
    "    vals = iteration(epsilon,theta,500,11)\n",
    "    \n",
    "    choice_prob = np.zeros(11)\n",
    "    v = vals[0]\n",
    "\n",
    "    for i in range(11):\n",
    "        state = i\n",
    "        if state == 10:\n",
    "            no_change = value_function0(state,theta) + beta*((1-lam)*v[state]+lam*v[state])\n",
    "        else:\n",
    "            no_change = value_function0(state,theta) + beta*((1-lam)*v[state]+lam*v[state+1])\n",
    "        change = value_function1(theta) + beta*((1-lam)*v[0]+lam*v[1])\n",
    "        choice_prob[i] = np.exp(change)/(np.exp(no_change)+np.exp(change))\n",
    "    \n",
    "    log_like = 0\n",
    "    for i in range(5000):\n",
    "        if i == 0:\n",
    "            print(i)\n",
    "        else:\n",
    "            xt = int(choice_matrix[i,0])\n",
    "            it = int(choice_matrix[i,3])\n",
    "            xt_1 = int(choice_matrix[i-1,0])\n",
    "            it_1 = int(choice_matrix[i-1,3])\n",
    "            if it_1 == 1:\n",
    "                if xt == 0:\n",
    "                    p2 = .2\n",
    "                else:\n",
    "                    p2 = .8\n",
    "            elif it_1 == 0:\n",
    "                if xt == xt_1:\n",
    "                    if xt == 10:\n",
    "                        p2 = 1\n",
    "                    else:\n",
    "                        p2 = .2\n",
    "                else:\n",
    "                    p2 = .8\n",
    "            if it == 1:\n",
    "                p1 = choice_prob[xt]\n",
    "            else:\n",
    "                p1 = 1 - choice_prob[xt]\n",
    "            log_like += np.log(p1*p2)\n",
    "    \n",
    "    return -log_like\n"
   ]
  },
  {
   "cell_type": "code",
   "execution_count": 12,
   "metadata": {},
   "outputs": [
    {
     "name": "stdout",
     "output_type": "stream",
     "text": [
      "[0.3 0.  4. ]\n",
      "0\n",
      "[0.315 0.    4.   ]\n",
      "0\n",
      "[3.0e-01 2.5e-04 4.0e+00]\n",
      "0\n",
      "[0.3 0.  4.2]\n",
      "0\n",
      "[2.85000000e-01 1.66666667e-04 4.13333333e+00]\n",
      "0\n",
      "[3.07500000e-01 4.16666667e-05 4.03333333e+00]\n",
      "0\n",
      "[3.05000000e-01 1.94444444e-04 3.82222222e+00]\n",
      "0\n",
      "[3.01250000e-01 4.86111111e-05 4.10555556e+00]\n",
      "0\n",
      "[2.93333333e-01 1.57407407e-04 4.03703704e+00]\n",
      "0\n",
      "[2.86250000e-01 2.15277778e-04 4.03888889e+00]\n",
      "0\n",
      "[ 2.96388889e-01 -1.12654321e-04  4.09506173e+00]\n",
      "0\n",
      "[2.99097222e-01 1.59336420e-04 4.02376543e+00]\n",
      "0\n",
      "[2.93703704e-01 1.62551440e-04 3.93497942e+00]\n",
      "0\n",
      "[2.99363426e-01 7.70961934e-05 4.06291152e+00]\n",
      "0\n",
      "[2.94529321e-01 2.62560014e-04 4.08247599e+00]\n",
      "0\n",
      "[2.98632330e-01 6.56400034e-05 4.02061900e+00]\n",
      "0\n",
      "[2.95122171e-01 4.07593164e-05 4.05661294e+00]\n",
      "0\n",
      "[2.98103459e-01 1.29692144e-04 4.03197731e+00]\n",
      "0\n",
      "[3.04066144e-01 2.42114864e-05 4.03996818e+00]\n",
      "0\n",
      "[2.96016536e-01 1.24108427e-04 4.03776982e+00]\n",
      "0\n",
      "[2.95804791e-01 1.35864190e-04 3.99733256e+00]\n",
      "0\n",
      "[2.98473767e-01 9.17881925e-05 4.04651678e+00]\n",
      "0\n",
      "[2.96430178e-01 1.64752506e-04 4.05689028e+00]\n",
      "0\n",
      "[2.98081792e-01 9.04181290e-05 4.02968682e+00]\n",
      "0\n",
      "[2.96944604e-01 7.45176885e-05 4.04400497e+00]\n",
      "0\n",
      "[2.95554854e-01 1.00907971e-04 4.02779096e+00]\n",
      "0\n",
      "[2.94095398e-01 1.05467860e-04 4.01842805e+00]\n",
      "0\n",
      "[2.95184546e-01 1.38811922e-04 4.01325149e+00]\n",
      "0\n",
      "[2.92115861e-01 1.55174010e-04 4.01661276e+00]\n",
      "0\n",
      "[2.91580668e-01 1.42194101e-04 3.99442504e+00]\n",
      "0\n",
      "[2.89362734e-01 1.51236938e-04 3.97275265e+00]\n",
      "0\n",
      "[2.95124547e-01 1.02475245e-04 4.00079030e+00]\n",
      "0\n",
      "[2.92868033e-01 1.41999319e-04 4.01265714e+00]\n",
      "0\n",
      "[2.90511519e-01 1.20962264e-04 4.00375533e+00]\n",
      "0\n",
      "[2.94016290e-01 1.34349508e-04 4.01087745e+00]\n",
      "0\n",
      "[2.93593538e-01 1.12674993e-04 4.00316322e+00]\n",
      "0\n",
      "[2.92031599e-01 1.54011208e-04 3.98721575e+00]\n",
      "0\n",
      "[2.93579448e-01 1.17603697e-04 4.01062498e+00]\n",
      "0\n",
      "[2.95878849e-01 1.00891364e-04 4.02201872e+00]\n",
      "0\n",
      "[2.92655213e-01 1.31868417e-04 4.00132346e+00]\n",
      "0\n",
      "[2.93240430e-01 1.43206088e-04 4.01205404e+00]\n",
      "0\n",
      "[2.93328707e-01 1.35573314e-04 4.00983133e+00]\n",
      "0\n",
      "[2.92359289e-01 1.22347444e-04 4.00364240e+00]\n",
      "0\n",
      "[2.93523083e-01 1.18481220e-04 4.01474234e+00]\n",
      "0\n",
      "[2.92872181e-01 1.28521617e-04 4.00467818e+00]\n",
      "0\n",
      "[2.94160935e-01 1.32118308e-04 4.01311393e+00]\n",
      "0\n",
      "[2.92809700e-01 1.24790160e-04 4.00601028e+00]\n",
      "0\n",
      "[2.92845513e-01 1.11703669e-04 4.00437762e+00]\n",
      "0\n",
      "[2.92603916e-01 9.97688464e-05 4.00165077e+00]\n",
      "0\n",
      "[2.93227329e-01 1.05805947e-04 4.00529234e+00]\n",
      "0\n",
      "[2.93436144e-01 9.63138406e-05 4.00493337e+00]\n",
      "0\n",
      "[2.93401615e-01 8.69307094e-05 4.00703388e+00]\n",
      "0\n",
      "[2.93666332e-01 6.61352553e-05 4.00821172e+00]\n",
      "0\n",
      "[2.92752270e-01 6.35363357e-05 3.99947825e+00]\n",
      "0\n",
      "[2.93826705e-01 5.72161790e-05 4.00700410e+00]\n",
      "0\n",
      "[2.94438099e-01 3.59398453e-05 4.00968077e+00]\n",
      "0\n",
      "[2.94010472e-01 4.60167715e-06 4.00628815e+00]\n",
      "0\n",
      "[ 2.94402043e-01 -4.60004578e-05  4.00678606e+00]\n",
      "0\n",
      "[ 2.95585380e-01 -2.61532405e-05  4.01697412e+00]\n",
      "0\n",
      "[ 2.95950683e-01 -9.02778240e-05  4.01408224e+00]\n",
      "0\n",
      "[ 2.97092858e-01 -1.68484364e-04  4.01701750e+00]\n",
      "0\n",
      "[ 2.96948754e-01 -1.96365220e-04  4.01750435e+00]\n",
      "0\n",
      "[ 2.98204082e-01 -3.12517753e-04  4.02141614e+00]\n",
      "0\n",
      "[ 2.97547275e-01 -3.25181809e-04  4.01317234e+00]\n",
      "0\n",
      "[ 2.98528223e-01 -4.74696093e-04  4.01127146e+00]\n",
      "0\n",
      "[ 3.01481399e-01 -5.91131682e-04  4.02635067e+00]\n",
      "0\n",
      "[ 3.05021077e-01 -8.63697294e-04  4.03613298e+00]\n",
      "0\n",
      "[ 3.04076063e-01 -9.32123063e-04  4.02886289e+00]\n",
      "0\n",
      "[ 3.07567666e-01 -1.31394241e-03  4.03478558e+00]\n",
      "0\n",
      "[ 3.09207229e-01 -1.45570611e-03  4.03337721e+00]\n",
      "0\n",
      "[ 3.16002425e-01 -1.94753445e-03  4.05825905e+00]\n",
      "0\n",
      "[ 3.24739526e-01 -2.68395363e-03  4.08175285e+00]\n",
      "0\n",
      "[ 3.16830469e-01 -2.28109136e-03  4.04814825e+00]\n",
      "0\n",
      "[ 3.22735165e-01 -2.98978839e-03  4.05415589e+00]\n",
      "0\n",
      "[ 3.21662942e-01 -2.71180406e-03  4.06475648e+00]\n",
      "0\n",
      "[ 3.27890798e-01 -3.33985303e-03  4.08044612e+00]\n",
      "0\n",
      "[ 0.33685126 -0.00420417  4.09378846]\n",
      "0\n",
      "[ 0.34231572 -0.00507501  4.09400126]\n",
      "0\n",
      "[ 3.22580750e-01 -2.72940327e-03  4.06719461e+00]\n",
      "0\n",
      "[ 3.3548004e-01 -3.8591657e-03  4.1067969e+00]\n",
      "0\n",
      "[ 3.20449798e-01 -2.41477316e-03  4.07583662e+00]\n",
      "0\n",
      "[ 3.32750894e-01 -3.75682442e-03  4.08930050e+00]\n",
      "0\n",
      "[ 3.20001588e-01 -2.69155478e-03  4.05116392e+00]\n",
      "0\n",
      "[ 3.23871201e-01 -2.98345751e-03  4.06507216e+00]\n",
      "0\n",
      "[ 3.33761179e-01 -3.99068670e-03  4.08935125e+00]\n",
      "0\n",
      "[ 3.24264558e-01 -3.11917374e-03  4.06727919e+00]\n",
      "0\n",
      "[ 3.33406489e-01 -3.98301814e-03  4.09297888e+00]\n",
      "0\n",
      "[ 3.31022667e-01 -3.73312798e-03  4.08600220e+00]\n",
      "0\n",
      "[ 3.21690836e-01 -2.80408313e-03  4.06646709e+00]\n",
      "0\n",
      "[ 3.30743593e-01 -3.69403581e-03  4.08363021e+00]\n",
      "0\n",
      "[ 3.35506814e-01 -4.05883747e-03  4.09943983e+00]\n",
      "0\n",
      "[ 3.27075122e-01 -3.35408967e-03  4.07531935e+00]\n",
      "0\n",
      "[ 3.31336790e-01 -3.84764928e-03  4.08285505e+00]\n",
      "0\n",
      "[ 3.28752296e-01 -3.46680209e-03  4.08104835e+00]\n",
      "0\n",
      "[ 3.27156463e-01 -3.34197736e-03  4.07794972e+00]\n",
      "0\n",
      "[ 3.24299921e-01 -3.04211810e-03  4.07020942e+00]\n",
      "0\n",
      "[ 3.29341980e-01 -3.56037551e-03  4.08205400e+00]\n",
      "0\n",
      "[ 3.29758704e-01 -3.55868030e-03  4.08538204e+00]\n",
      "0\n",
      "[ 3.31412191e-01 -3.71526125e-03  4.08770654e+00]\n",
      "0\n",
      "[ 3.28220395e-01 -3.43529833e-03  4.08038893e+00]\n",
      "0\n",
      "[ 3.29461757e-01 -3.56943400e-03  4.08416829e+00]\n",
      "0\n",
      "[ 3.28929661e-01 -3.49246007e-03  4.08182834e+00]\n",
      "0\n",
      "[ 3.27902653e-01 -3.43340897e-03  4.07746547e+00]\n",
      "0\n",
      "[ 3.29294692e-01 -3.52736247e-03  4.08340290e+00]\n",
      "0\n",
      "[ 3.28287852e-01 -3.40970507e-03  4.08169277e+00]\n",
      "0\n",
      "[ 3.29078448e-01 -3.52270790e-03  4.08196369e+00]\n",
      "0\n",
      "[ 3.28799362e-01 -3.49778573e-03  4.08200867e+00]\n",
      "0\n",
      "[ 3.28897086e-01 -3.49379148e-03  4.08187342e+00]\n",
      "0\n",
      "[ 3.29959756e-01 -3.59394291e-03  4.08443775e+00]\n",
      "0\n",
      "[ 3.28655235e-01 -3.47495947e-03  4.08140113e+00]\n",
      "0\n",
      "[ 3.28459155e-01 -3.46694344e-03  4.08008927e+00]\n",
      "0\n",
      "[ 3.29085807e-01 -3.51225771e-03  4.08257449e+00]\n",
      "0\n",
      "[ 3.28680305e-01 -3.46463121e-03  4.08193567e+00]\n",
      "0\n",
      "[ 3.28779841e-01 -3.47915038e-03  4.08194267e+00]\n",
      "0\n",
      "[ 3.28783502e-01 -3.48378689e-03  4.08207211e+00]\n",
      "0\n",
      "[ 3.28868690e-01 -3.49129034e-03  4.08192309e+00]\n",
      "0\n",
      "[ 3.29167657e-01 -3.51350615e-03  4.08289237e+00]\n",
      "0\n",
      "[ 3.28783341e-01 -3.48459614e-03  4.08177394e+00]\n",
      "0\n",
      "[ 3.29045385e-01 -3.51294574e-03  4.08223834e+00]\n",
      "0\n",
      "[ 3.28712470e-01 -3.48029710e-03  4.08138243e+00]\n",
      "0\n",
      "[ 3.28530949e-01 -3.45784331e-03  4.08114797e+00]\n",
      "0\n",
      "[ 3.28916776e-01 -3.49917013e-03  4.08196575e+00]\n",
      "0\n",
      "[ 3.29000068e-01 -3.50307397e-03  4.08239276e+00]\n",
      "0\n",
      "[ 3.28928169e-01 -3.49737975e-03  4.08214018e+00]\n",
      "0\n",
      "[ 3.28883500e-01 -3.49614035e-03  4.08199682e+00]\n",
      "0\n",
      "[ 3.28872393e-01 -3.49250284e-03  4.08194153e+00]\n",
      "0\n",
      "[ 3.29028218e-01 -3.50810568e-03  4.08225769e+00]\n",
      "0\n",
      "[ 3.28844560e-01 -3.49047353e-03  4.08189488e+00]\n",
      "0\n",
      "[ 3.28846638e-01 -3.48773395e-03  4.08201864e+00]\n",
      "0\n",
      "[ 3.28899242e-01 -3.49631109e-03  4.08197897e+00]\n",
      "0\n",
      "[ 3.28815961e-01 -3.48881188e-03  4.08173674e+00]\n",
      "0\n",
      "[ 3.28844013e-01 -3.49095385e-03  4.08183760e+00]\n",
      "0\n",
      "Optimization terminated successfully.\n",
      "         Current function value: 4482.238867\n",
      "         Iterations: 73\n",
      "         Function evaluations: 132\n",
      "[ 3.28844560e-01 -3.49047353e-03  4.08189488e+00]\n"
     ]
    }
   ],
   "source": [
    "## search parameter space to maximize log-likelihood\n",
    "from scipy.optimize import fmin\n",
    "\n",
    "mle_params1 = fmin(mle_estimator, theta, args=(.0001,500), xtol=0.0001, ftol=0.0001, maxiter=None)\n",
    "print(mle_params1)"
   ]
  },
  {
   "cell_type": "code",
   "execution_count": 13,
   "metadata": {},
   "outputs": [
    {
     "name": "stdout",
     "output_type": "stream",
     "text": [
      "0.18053572812545082\n"
     ]
    }
   ],
   "source": [
    "## use estimated parameters to find LR replacement probability\n",
    "# Method 1: Simulation\n",
    "EVs = iteration(.0001,mle_params1,500,11)\n",
    "choice_prob2 = choice_prob_calc(EVs[0],mle_params1)\n",
    "choice_matrix2 = simulator(EVs[0],23)\n",
    "def f_state_prob(mat,state):\n",
    "    temp = mat[:,0] == state\n",
    "    count = temp.sum()\n",
    "    return count\n",
    "state_prob_sim = np.zeros(11)\n",
    "for i in range(11):\n",
    "    state_prob_sim[i]=f_state_prob(choice_matrix2,i)/5000\n",
    "LR_rep_prob1 = np.sum(state_prob_sim.T.dot(choice_prob2))\n",
    "print(LR_rep_prob1)"
   ]
  },
  {
   "cell_type": "code",
   "execution_count": 14,
   "metadata": {},
   "outputs": [
    {
     "name": "stdout",
     "output_type": "stream",
     "text": [
      "0.8496191828738736\n",
      "0.1863889158561775\n",
      "0.07986155262938627\n",
      "0.03240239722596804\n",
      "0.016435459337221025\n",
      "0.015064994834799726\n",
      "0.01163254573973083\n",
      "0.0064009215887337375\n",
      "0.0033064941770365617\n",
      "0.0032235207203666102\n",
      "0.002615120485046768\n",
      "0.0014125643804359638\n",
      "0.0007434730675536262\n",
      "LR Replacement Probability: 0.17329020635332243\n"
     ]
    }
   ],
   "source": [
    "## use estimated parameters to find LR replacement probability\n",
    "# Method 2: Analytical\n",
    "EVs = iteration(.0001,mle_params1,500,11)\n",
    "choice_prob2 = choice_prob_calc(EVs[0],mle_params1)\n",
    "markov_trans_matrix = np.zeros((11,11))\n",
    "for i in range(11):\n",
    "    chg_0 = choice_prob2[i]*.2\n",
    "    chg_1 = choice_prob2[i]*.8\n",
    "    nchg_0 = (1-choice_prob2[i])*.2\n",
    "    nchg_1 = (1-choice_prob2[i])*.8\n",
    "    if i != 10:\n",
    "        markov_trans_matrix[i,0]+=chg_0\n",
    "        markov_trans_matrix[i,1]+=chg_1\n",
    "        markov_trans_matrix[i,i]+=nchg_0\n",
    "        markov_trans_matrix[i,i+1]+=nchg_1\n",
    "    else:\n",
    "        markov_trans_matrix[i,0]+=chg_0\n",
    "        markov_trans_matrix[i,1]+=chg_1\n",
    "        markov_trans_matrix[i,i]+=nchg_0\n",
    "        markov_trans_matrix[i,i]+=nchg_1\n",
    "        \n",
    "Q_temp = np.zeros(11)\n",
    "Q_temp[0]=1\n",
    "Q = np.ones(11)\n",
    "Q_n = np.zeros(11)\n",
    "while np.linalg.norm(Q-Q_n)>.001:\n",
    "    Q=Q_temp\n",
    "    Q_n=Q.dot(markov_trans_matrix.T)\n",
    "    Q_temp=Q_n\n",
    "    print(np.linalg.norm(Q-Q_n))\n",
    "LR_rep_prob2 = np.sum(Q.T.dot(choice_prob2))\n",
    "print(\"LR Replacement Probability:\",LR_rep_prob2)"
   ]
  },
  {
   "cell_type": "code",
   "execution_count": 15,
   "metadata": {},
   "outputs": [
    {
     "name": "stdout",
     "output_type": "stream",
     "text": [
      "0.8589253519069626\n",
      "0.19373195517356842\n",
      "0.079645528817965\n",
      "0.028021370034494092\n",
      "0.015777872735576855\n",
      "0.014246748730878618\n",
      "0.00920044916311383\n",
      "0.004046543419972709\n",
      "0.002696731624706414\n",
      "0.002562690283768078\n",
      "0.0015523050055921952\n",
      "0.0006495229688864157\n",
      "LR Replacement Probability: 0.21608731578831902\n",
      "[0.02659699 0.0647088  0.12622385 0.20788843 0.30208893 0.40034849\n",
      " 0.49552619 0.58265599 0.65870376 0.71951595 0.76962135]\n"
     ]
    }
   ],
   "source": [
    "## Policy exercise\n",
    "# What is the effect of a 10% reduction on replacement costs on LR replacement probability\n",
    "theta_policy = mle_params1\n",
    "theta_policy[2] = theta[2]*.9\n",
    "EVs = iteration(.0001,theta_policy,500,11)\n",
    "choice_prob2 = choice_prob_calc(EVs[0],theta_policy)\n",
    "markov_trans_matrix = np.zeros((11,11))\n",
    "for i in range(11):\n",
    "    chg_0 = choice_prob2[i]*.2\n",
    "    chg_1 = choice_prob2[i]*.8\n",
    "    nchg_0 = (1-choice_prob2[i])*.2\n",
    "    nchg_1 = (1-choice_prob2[i])*.8\n",
    "    if i != 10:\n",
    "        markov_trans_matrix[i,0]+=chg_0\n",
    "        markov_trans_matrix[i,1]+=chg_1\n",
    "        markov_trans_matrix[i,i]+=nchg_0\n",
    "        markov_trans_matrix[i,i+1]+=nchg_1\n",
    "    else:\n",
    "        markov_trans_matrix[i,0]+=chg_0\n",
    "        markov_trans_matrix[i,1]+=chg_1\n",
    "        markov_trans_matrix[i,i]+=nchg_0\n",
    "        markov_trans_matrix[i,i]+=nchg_1\n",
    "        \n",
    "Q_temp = np.zeros(11)\n",
    "Q_temp[0]=1\n",
    "Q = np.ones(11)\n",
    "Q_n = np.zeros(11)\n",
    "while np.linalg.norm(Q-Q_n)>.001:\n",
    "    Q=Q_temp\n",
    "    Q_n=Q.dot(markov_trans_matrix.T)\n",
    "    Q_temp=Q_n\n",
    "    print(np.linalg.norm(Q-Q_n))\n",
    "LR_rep_prob2 = np.sum(Q.T.dot(choice_prob2))\n",
    "print(\"LR Replacement Probability:\",LR_rep_prob2)\n",
    "print(choice_prob2)"
   ]
  },
  {
   "cell_type": "code",
   "execution_count": 17,
   "metadata": {},
   "outputs": [
    {
     "name": "stdout",
     "output_type": "stream",
     "text": [
      "Policy Increases LR Replacement Probability by 24.696784853344404 %\n"
     ]
    }
   ],
   "source": [
    "## Policy Effect\n",
    "print(\"Policy Increases LR Replacement Probability by\",(0.21608731578831902-0.17329020635332243)/0.17329020635332243*100,\"%\")"
   ]
  },
  {
   "cell_type": "code",
   "execution_count": null,
   "metadata": {},
   "outputs": [],
   "source": []
  }
 ],
 "metadata": {
  "kernelspec": {
   "display_name": "Python 3",
   "language": "python",
   "name": "python3"
  },
  "language_info": {
   "codemirror_mode": {
    "name": "ipython",
    "version": 3
   },
   "file_extension": ".py",
   "mimetype": "text/x-python",
   "name": "python",
   "nbconvert_exporter": "python",
   "pygments_lexer": "ipython3",
   "version": "3.6.2"
  }
 },
 "nbformat": 4,
 "nbformat_minor": 2
}
