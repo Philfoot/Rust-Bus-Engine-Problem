{
 "cells": [
  {
   "cell_type": "code",
   "execution_count": 1,
   "metadata": {},
   "outputs": [],
   "source": [
    "## Import data and packages ##\n",
    "import pandas as pd\n",
    "import numpy as np\n",
    "import matplotlib.pyplot as plt\n",
    "import scipy.sparse as sparse"
   ]
  },
  {
   "cell_type": "code",
   "execution_count": 2,
   "metadata": {},
   "outputs": [],
   "source": [
    "## Upload data for error draws\n",
    "draws = pd.read_csv('draw.out',sep='              ',header=None,engine='python')\n",
    "draws = np.array(draws)"
   ]
  },
  {
   "cell_type": "code",
   "execution_count": 3,
   "metadata": {},
   "outputs": [],
   "source": [
    "## Setup basic engine replacement model \n",
    "theta = np.array([0.3,0,4])\n",
    "lam = 0.8\n",
    "beta = 0.95\n",
    "\n",
    "## p = .8 that bus advances to next state \n",
    "trans_matrix = sparse.diags([.2,.8],[0,1],shape=(11,11)).toarray()\n",
    "trans_matrix[10,10]=1\n",
    "\n",
    "def value_function0(x_t,params):\n",
    "    val = -params[0]*x_t+-params[1]*x_t**2\n",
    "    return val\n",
    "\n",
    "def value_function1(params):\n",
    "    val = -params[2]\n",
    "    return val\n"
   ]
  },
  {
   "cell_type": "code",
   "execution_count": 4,
   "metadata": {},
   "outputs": [
    {
     "name": "stdout",
     "output_type": "stream",
     "text": [
      "[-5.93269495 -6.83084801 -7.4876776  -7.95206643 -8.27516537 -8.49964733\n",
      " -8.65668353 -8.76757443 -8.84631755 -8.90005197 -8.90984461]\n"
     ]
    }
   ],
   "source": [
    "## Define value function iteration algorithm\n",
    "## Based on Choice Specific Value Function\n",
    "def iteration(epsilon,params,maxiter,n_steps):\n",
    "    values_matrix = np.full((n_steps,n_steps),-100.)    \n",
    "    values_temp = np.zeros(n_steps)\n",
    "    values = np.ones(n_steps)\n",
    "    state = np.linspace(0,10,n_steps)\n",
    "\n",
    "    diff = 1\n",
    "    i = 0\n",
    "    while diff > epsilon:\n",
    "        \n",
    "        no_change = value_function0(state,params)\n",
    "        change = value_function1(params)\n",
    "        \n",
    "        values_temp = .5772 + np.log(np.exp(no_change+beta*values)+np.exp(change+beta*values[0]))\n",
    "        values_temp = values_temp.dot(trans_matrix.T)\n",
    "        \n",
    "        diff = np.linalg.norm(values - values_temp)\n",
    "        values = values_temp\n",
    "        i+=1\n",
    "#         print(i)\n",
    "        if i == maxiter:\n",
    "            break\n",
    "            print(\"Max Iterations Reached\")\n",
    "        \n",
    "    return values, i, diff\n",
    "    \n",
    "results = iteration(.00001,theta,500,11)\n",
    "print(results[0])"
   ]
  },
  {
   "cell_type": "code",
   "execution_count": 5,
   "metadata": {
    "scrolled": true
   },
   "outputs": [
    {
     "data": {
      "text/plain": [
       "[<matplotlib.lines.Line2D at 0x270a4bca7f0>]"
      ]
     },
     "execution_count": 5,
     "metadata": {},
     "output_type": "execute_result"
    },
    {
     "data": {
      "image/png": "[encoded data removed]",
      "text/plain": [
       "<Figure size 432x288 with 1 Axes>"
      ]
     },
     "metadata": {},
     "output_type": "display_data"
    }
   ],
   "source": [
    "## plot values at each state\n",
    "plt.plot(results[0])"
   ]
  },
  {
   "cell_type": "code",
   "execution_count": 6,
   "metadata": {},
   "outputs": [
    {
     "name": "stdout",
     "output_type": "stream",
     "text": [
      "[0.01798621 0.05484932 0.12755339 0.23476516 0.36016384 0.48465601\n",
      " 0.59575037 0.68850419 0.76277273 0.82038958 0.86155815]\n"
     ]
    },
    {
     "data": {
      "text/plain": [
       "[<matplotlib.lines.Line2D at 0x270a4c6c128>]"
      ]
     },
     "execution_count": 6,
     "metadata": {},
     "output_type": "execute_result"
    },
    {
     "data": {
      "image/png": "[encoded data removed]",
      "text/plain": [
       "<Figure size 432x288 with 1 Axes>"
      ]
     },
     "metadata": {},
     "output_type": "display_data"
    }
   ],
   "source": [
    "## Analytical Choice probability calculations\n",
    "def choice_prob_calc(exp_vals,params):\n",
    "    choice_prob_temp = np.zeros(11)\n",
    "    v = exp_vals\n",
    "\n",
    "    for i in range(11):\n",
    "        state = i\n",
    "        no_change = value_function0(state,params) + beta*(v[state])\n",
    "        change = value_function1(params) + beta*(v[0])\n",
    "        choice_prob_temp[i] = np.exp(change)/(np.exp(no_change)+np.exp(change))\n",
    "    return choice_prob_temp\n",
    "        \n",
    "choice_prob = choice_prob_calc(results[0],theta)\n",
    "print(choice_prob)\n",
    "plt.plot(choice_prob)"
   ]
  },
  {
   "cell_type": "code",
   "execution_count": 7,
   "metadata": {},
   "outputs": [],
   "source": [
    "## Simulation Results\n",
    "def simulator(exp_val,params,seed):\n",
    "    v = exp_val\n",
    "    state = 0\n",
    "    mat_temp = np.zeros((5000,4)) \n",
    "\n",
    "    np.random.seed(seed)\n",
    "\n",
    "    draws_log = -np.log(-np.log(draws))\n",
    "\n",
    "    for i in range(5000):\n",
    "        no_change = value_function0(state,params) + beta*(v[state]) + draws_log[i,0]\n",
    "        change = value_function1(params) + beta*(v[0]) + draws_log[i,1]\n",
    "        mat_temp[i,0]=state\n",
    "        mat_temp[i,1]=no_change\n",
    "        mat_temp[i,2]=change\n",
    "        if no_change <  change:\n",
    "            mat_temp[i,3] = 1\n",
    "            state = 0\n",
    "        else:\n",
    "            mat_temp[i,3] = 0\n",
    "\n",
    "        bi = np.random.binomial(1,p=.8)\n",
    "        if state < 10:\n",
    "            state += bi\n",
    "        else:\n",
    "            state = 10\n",
    "    return mat_temp\n",
    "\n",
    "choice_matrix = simulator(results[0],theta,32)"
   ]
  },
  {
   "cell_type": "code",
   "execution_count": 8,
   "metadata": {},
   "outputs": [
    {
     "name": "stdout",
     "output_type": "stream",
     "text": [
      "State 0  average  0.019762845849802372\n",
      "State 1  average  0.055205047318611984\n",
      "State 2  average  0.1231945624468989\n",
      "State 3  average  0.24260958205912334\n",
      "State 4  average  0.3302752293577982\n",
      "State 5  average  0.5147058823529411\n",
      "State 6  average  0.5443786982248521\n",
      "State 7  average  0.6567164179104478\n",
      "State 8  average  0.8\n",
      "State 9  average  0.6666666666666666\n",
      "State 10  average  1.0\n"
     ]
    }
   ],
   "source": [
    "## Calculate empirical choice probabilities from simulation\n",
    "def f_choice_prob(mat,state):\n",
    "    temp = mat[:,0]==state\n",
    "    if temp.any():\n",
    "        return mat[temp,3].mean()\n",
    "    else:\n",
    "        return 1\n",
    "    \n",
    "choice_prob_sim = np.zeros(11)    \n",
    "for i in range(11):\n",
    "    choice_prob_sim[i]=f_choice_prob(choice_matrix,i)\n",
    "    print(\"State\", i,\" average \",choice_prob_sim[i])"
   ]
  },
  {
   "cell_type": "code",
   "execution_count": 9,
   "metadata": {},
   "outputs": [
    {
     "data": {
      "text/plain": [
       "<matplotlib.legend.Legend at 0x270a6d0e780>"
      ]
     },
     "execution_count": 9,
     "metadata": {},
     "output_type": "execute_result"
    },
    {
     "data": {
      "image/png": "[encoded data removed]",
      "text/plain": [
       "<Figure size 432x288 with 1 Axes>"
      ]
     },
     "metadata": {},
     "output_type": "display_data"
    }
   ],
   "source": [
    "## plot empirical vs. analytical choice probablities\n",
    "x = np.linspace(0,11,11)\n",
    "plt.plot(x,choice_prob,label=\"Analytical Choice Prob\")\n",
    "plt.plot(x,choice_prob_sim,label=\"Simulated Choice Prob\")\n",
    "plt.legend()"
   ]
  },
  {
   "cell_type": "code",
   "execution_count": 10,
   "metadata": {},
   "outputs": [
    {
     "name": "stdout",
     "output_type": "stream",
     "text": [
      "State 0  average  0.0506\n",
      "State 1  average  0.3042\n",
      "State 2  average  0.5396\n",
      "State 3  average  0.7358\n",
      "State 4  average  0.8666\n",
      "State 5  average  0.9482\n",
      "State 6  average  0.982\n",
      "State 7  average  0.9954\n",
      "State 8  average  0.9994\n",
      "State 9  average  1.0\n",
      "State 10  average  1.0\n"
     ]
    }
   ],
   "source": [
    "## generate empirical cdf\n",
    "def f_emp_cdf(mat,state):\n",
    "    temp = mat[:,0] <= state\n",
    "    count = temp.sum()\n",
    "    return count\n",
    "    \n",
    "emp_cdf_sim = np.zeros(11)    \n",
    "for i in range(11):\n",
    "    emp_cdf_sim[i]=f_emp_cdf(choice_matrix,i)/5000\n",
    "    print(\"State\", i,\" average \",emp_cdf_sim[i])"
   ]
  },
  {
   "cell_type": "code",
   "execution_count": 11,
   "metadata": {
    "scrolled": true
   },
   "outputs": [
    {
     "data": {
      "text/plain": [
       "[<matplotlib.lines.Line2D at 0x270a6d7ac88>]"
      ]
     },
     "execution_count": 11,
     "metadata": {},
     "output_type": "execute_result"
    },
    {
     "data": {
      "image/png": "[encoded data removed]",
      "text/plain": [
       "<Figure size 432x288 with 1 Axes>"
      ]
     },
     "metadata": {},
     "output_type": "display_data"
    }
   ],
   "source": [
    "## plot empirical cdf\n",
    "plt.plot(emp_cdf_sim)"
   ]
  },
  {
   "cell_type": "code",
   "execution_count": 13,
   "metadata": {},
   "outputs": [],
   "source": [
    "## Define mle problem and estimate likelihood based on simulated results\n",
    "def mle_estimator(params,epsilon,maxiter):\n",
    "    \n",
    "    print(params)\n",
    "    vals = iteration(epsilon,params,500,11)\n",
    "    \n",
    "    choice_prob_temp = choice_prob_calc(vals[0],params)\n",
    "    \n",
    "    log_like = 0\n",
    "    for i in range(5000):\n",
    "        if i == 0:\n",
    "            print(i)\n",
    "        else:\n",
    "            xt = int(choice_matrix[i,0])\n",
    "            it = int(choice_matrix[i,3])\n",
    "            xt_1 = int(choice_matrix[i-1,0])\n",
    "            it_1 = int(choice_matrix[i-1,3])\n",
    "            if it_1 == 1:\n",
    "                if xt == 0:\n",
    "                    p2 = .2\n",
    "                else:\n",
    "                    p2 = .8\n",
    "            elif it_1 == 0:\n",
    "                if xt == xt_1:\n",
    "                    if xt == 10:\n",
    "                        p2 = 1\n",
    "                    else:\n",
    "                        p2 = .2\n",
    "                else:\n",
    "                    p2 = .8\n",
    "            if it == 1:\n",
    "                p1 = choice_prob_temp[xt]\n",
    "            else:\n",
    "                p1 = 1 - choice_prob_temp[xt]\n",
    "            log_like += np.log(p1*p2)\n",
    "    \n",
    "    return -log_like\n"
   ]
  },
  {
   "cell_type": "code",
   "execution_count": 14,
   "metadata": {},
   "outputs": [
    {
     "name": "stdout",
     "output_type": "stream",
     "text": [
      "[0.3 0.  4. ]\n",
      "0\n",
      "[0.315 0.    4.   ]\n",
      "0\n",
      "[3.0e-01 2.5e-04 4.0e+00]\n",
      "0\n",
      "[0.3 0.  4.2]\n",
      "0\n",
      "[2.85000000e-01 1.66666667e-04 4.13333333e+00]\n",
      "0\n",
      "[3.07500000e-01 4.16666667e-05 4.03333333e+00]\n",
      "0\n",
      "[3.05000000e-01 1.94444444e-04 3.82222222e+00]\n",
      "0\n",
      "[3.01250000e-01 4.86111111e-05 4.10555556e+00]\n",
      "0\n",
      "[2.93333333e-01 1.57407407e-04 4.03703704e+00]\n",
      "0\n",
      "[2.94305556e-01 2.22993827e-04 3.91913580e+00]\n",
      "0\n",
      "[2.96041667e-01 1.79398148e-04 3.96574074e+00]\n",
      "0\n",
      "[ 2.92916667e-01 -2.54629630e-05  4.00185185e+00]\n",
      "0\n",
      "[ 2.89375000e-01 -1.63194444e-04  4.00277778e+00]\n",
      "0\n",
      "[ 2.99305556e-01 -5.47839506e-05  3.94135802e+00]\n",
      "0\n",
      "[2.94826389e-01 1.04359568e-04 4.01311728e+00]\n",
      "0\n",
      "[2.89189815e-01 1.72196502e-04 3.98713992e+00]\n",
      "0\n",
      "[ 2.88580247e-01 -1.20027435e-05  4.03566529e+00]\n",
      "0\n",
      "[2.94176312e-01 1.31547925e-04 3.98322188e+00]\n",
      "0\n",
      "[ 2.98756430e-01 -3.19001486e-05  4.01165409e+00]\n",
      "0\n",
      "[2.96364776e-01 1.91240141e-05 4.00552555e+00]\n",
      "0\n",
      "[2.97328318e-01 1.95483968e-04 3.99939129e+00]\n",
      "0\n",
      "[2.94019579e-01 2.97737697e-05 4.00123671e+00]\n",
      "0\n",
      "[2.94880723e-01 1.59375714e-05 3.98020548e+00]\n",
      "0\n",
      "[ 2.94907890e-01 -2.82734268e-05  3.96374957e+00]\n",
      "0\n",
      "[2.92352966e-01 9.90488302e-05 3.97091716e+00]\n",
      "0\n",
      "[2.90347061e-01 1.39011238e-04 3.95361297e+00]\n",
      "0\n",
      "[2.92249818e-01 1.61224054e-04 3.94345684e+00]\n",
      "0\n",
      "[2.93577139e-01 6.26363407e-05 3.98679174e+00]\n",
      "0\n",
      "[2.91693637e-01 1.35088417e-05 3.96385158e+00]\n",
      "0\n",
      "[ 2.90452300e-01 -4.55107001e-05  3.95416643e+00]\n",
      "0\n",
      "[2.88864502e-01 1.27500042e-04 3.95596538e+00]\n",
      "0\n",
      "[2.87026328e-01 1.24043741e-04 3.92882821e+00]\n",
      "0\n",
      "[2.91939436e-01 7.79881907e-05 3.97230086e+00]\n",
      "0\n",
      "[2.93788921e-01 2.61721381e-05 3.97054489e+00]\n",
      "0\n",
      "[2.90095607e-01 1.02168066e-04 3.95961026e+00]\n",
      "0\n",
      "[2.89484767e-01 9.18039068e-05 3.94574901e+00]\n",
      "0\n",
      "[ 2.90502280e-01 -6.90695098e-07  3.95919427e+00]\n",
      "0\n",
      "[ 2.92042915e-01 -1.51464315e-05  3.97602172e+00]\n",
      "0\n",
      "[2.90124304e-01 6.50663222e-05 3.95331719e+00]\n",
      "0\n",
      "[ 2.91451207e-01 -5.02450871e-05  3.95796510e+00]\n",
      "0\n",
      "[ 2.92129007e-01 -1.26451664e-04  3.95714251e+00]\n",
      "0\n",
      "[ 2.92129019e-01 -3.12269715e-05  3.95701326e+00]\n",
      "0\n",
      "[ 2.90908964e-01 -8.32476419e-06  3.95864901e+00]\n",
      "0\n",
      "[ 2.93030101e-01 -1.45911380e-04  3.96644488e+00]\n",
      "0\n",
      "[ 2.94483000e-01 -2.51400231e-04  3.97300873e+00]\n",
      "0\n",
      "[ 2.92351745e-01 -2.00634047e-04  3.95763936e+00]\n",
      "0\n",
      "[ 2.92680799e-01 -3.07705491e-04  3.95453325e+00]\n",
      "0\n",
      "[ 2.94317640e-01 -3.78387592e-04  3.96009808e+00]\n",
      "0\n",
      "[ 2.94556686e-01 -4.28217978e-04  3.96357496e+00]\n",
      "0\n",
      "[ 2.95770526e-01 -5.79101135e-04  3.96679118e+00]\n",
      "0\n",
      "[ 2.95482542e-01 -6.97551433e-04  3.95450346e+00]\n",
      "0\n",
      "[ 2.94971604e-01 -6.77851114e-04  3.95712052e+00]\n",
      "0\n",
      "[ 2.93466078e-01 -3.45553728e-04  3.96445984e+00]\n",
      "0\n",
      "[ 2.96791340e-01 -7.60631827e-04  3.97104777e+00]\n",
      "0\n",
      "[ 2.98846611e-01 -9.87094995e-04  3.97930504e+00]\n",
      "0\n",
      "[ 2.99593083e-01 -1.15047777e-03  3.97101799e+00]\n",
      "0\n",
      "[ 3.01168543e-01 -1.13326482e-03  3.98762229e+00]\n",
      "0\n",
      "[ 3.03968299e-01 -1.60145725e-03  3.99183903e+00]\n",
      "0\n",
      "[ 3.08067185e-01 -2.11263531e-03  4.00436295e+00]\n",
      "0\n",
      "[ 3.03169377e-01 -1.70020723e-03  3.98216836e+00]\n",
      "0\n",
      "[ 3.07129031e-01 -2.04948059e-03  4.00620624e+00]\n",
      "0\n",
      "[ 3.10897005e-01 -2.49898200e-03  4.02380037e+00]\n",
      "0\n",
      "[ 3.13397118e-01 -2.92112043e-03  4.01585333e+00]\n",
      "0\n",
      "[ 3.20672371e-01 -3.88813314e-03  4.03412748e+00]\n",
      "0\n",
      "[ 3.15892846e-01 -3.02195032e-03  4.03544666e+00]\n",
      "0\n",
      "[ 3.06350244e-01 -2.03064300e-03  3.99548793e+00]\n",
      "0\n",
      "[ 3.09850411e-01 -2.55486070e-03  4.00733539e+00]\n",
      "0\n",
      "[ 3.08512991e-01 -2.22319166e-03  4.00510606e+00]\n",
      "0\n",
      "[ 3.11711204e-01 -2.73382280e-03  4.00475864e+00]\n",
      "0\n",
      "[ 3.08274575e-01 -2.22056614e-03  4.00584434e+00]\n",
      "0\n",
      "[ 3.02028089e-01 -1.39514678e-03  3.98843889e+00]\n",
      "0\n",
      "[ 3.10554860e-01 -2.53962701e-03  4.00899972e+00]\n",
      "0\n",
      "[ 3.11878040e-01 -2.62494687e-03  4.01781215e+00]\n",
      "0\n",
      "[ 3.07732193e-01 -2.17921897e-03  4.00106899e+00]\n",
      "0\n",
      "[ 3.09194761e-01 -2.40308309e-03  4.00550264e+00]\n",
      "0\n",
      "[ 3.10046635e-01 -2.52738658e-03  4.00453656e+00]\n",
      "0\n",
      "[ 3.09603620e-01 -2.45068147e-03  4.00486350e+00]\n",
      "0\n",
      "[ 3.09399021e-01 -2.37660188e-03  4.00445217e+00]\n",
      "0\n",
      "[ 3.09245826e-01 -2.39646279e-03  4.00524002e+00]\n",
      "0\n",
      "[ 3.11870678e-01 -2.74529521e-03  4.01166651e+00]\n",
      "0\n",
      "[ 3.08766814e-01 -2.32073803e-03  4.00371837e+00]\n",
      "0\n",
      "[ 3.07855980e-01 -2.23896118e-03  4.00021487e+00]\n",
      "0\n",
      "[ 3.09880140e-01 -2.46446055e-03  4.00680351e+00]\n",
      "0\n",
      "[ 3.08991567e-01 -2.33709278e-03  4.00564443e+00]\n",
      "0\n",
      "[ 3.09450607e-01 -2.42228430e-03  4.00505874e+00]\n",
      "0\n",
      "[ 3.08428691e-01 -2.29519619e-03  4.00254124e+00]\n",
      "0\n",
      "[ 3.09517278e-01 -2.42214446e-03  4.00573794e+00]\n",
      "0\n",
      "[ 3.09243973e-01 -2.38031507e-03  4.00443667e+00]\n",
      "0\n",
      "[ 3.09245363e-01 -2.39242586e-03  4.00503919e+00]\n",
      "0\n",
      "[ 3.10042017e-01 -2.50383172e-03  4.00683887e+00]\n",
      "0\n",
      "[ 3.09085615e-01 -2.36651145e-03  4.00449849e+00]\n",
      "0\n",
      "[ 3.09114897e-01 -2.36510355e-03  4.00512501e+00]\n",
      "0\n",
      "[ 3.09198824e-01 -2.37939874e-03  4.00510844e+00]\n",
      "0\n",
      "[ 3.08835924e-01 -2.33674624e-03  4.00402614e+00]\n",
      "0\n",
      "[ 3.09346939e-01 -2.40079491e-03  4.00530999e+00]\n",
      "0\n",
      "[ 3.09175556e-01 -2.37204421e-03  4.00490543e+00]\n",
      "0\n",
      "[ 3.09227911e-01 -2.38733045e-03  4.00500575e+00]\n",
      "0\n",
      "[ 3.09241486e-01 -2.39035913e-03  4.00476771e+00]\n",
      "0\n",
      "[ 3.09262816e-01 -2.39583933e-03  4.00459735e+00]\n",
      "0\n",
      "[ 3.09458609e-01 -2.41914487e-03  4.00555714e+00]\n",
      "0\n",
      "[ 3.09178864e-01 -2.37966981e-03  4.00476316e+00]\n",
      "0\n",
      "[ 3.09085234e-01 -2.37077802e-03  4.00438109e+00]\n",
      "0\n",
      "[ 3.09150661e-01 -2.37828224e-03  4.00461331e+00]\n",
      "0\n",
      "[ 3.09152762e-01 -2.37821034e-03  4.00442371e+00]\n",
      "0\n",
      "[ 3.09209124e-01 -2.38505042e-03  4.00486024e+00]\n",
      "0\n",
      "[ 3.09117613e-01 -2.37164251e-03  4.00472342e+00]\n",
      "0\n",
      "[ 3.09210518e-01 -2.38567998e-03  4.00475664e+00]\n",
      "0\n",
      "[ 3.09248343e-01 -2.38865123e-03  4.00497338e+00]\n",
      "0\n",
      "[ 3.09213703e-01 -2.38323433e-03  4.00497454e+00]\n",
      "0\n",
      "[ 3.09211314e-01 -2.38506856e-03  4.00481112e+00]\n",
      "0\n",
      "[ 3.09151191e-01 -2.37787463e-03  4.00464963e+00]\n",
      "0\n",
      "[ 3.09224055e-01 -2.38595708e-03  4.00489244e+00]\n",
      "0\n",
      "[ 3.09200364e-01 -2.38207988e-03  4.00478424e+00]\n",
      "0\n",
      "[ 3.09206934e-01 -2.38430778e-03  4.00484124e+00]\n",
      "0\n",
      "Optimization terminated successfully.\n",
      "         Current function value: 4659.288994\n",
      "         Iterations: 63\n",
      "         Function evaluations: 114\n",
      "[ 3.09206934e-01 -2.38430778e-03  4.00484124e+00]\n"
     ]
    }
   ],
   "source": [
    "## search parameter space to maximize log-likelihood\n",
    "from scipy.optimize import fmin\n",
    "\n",
    "mle_params1 = fmin(mle_estimator, theta, args=(.0001,500), xtol=0.0001, ftol=0.0001, maxiter=None)\n",
    "print(mle_params1)"
   ]
  },
  {
   "cell_type": "code",
   "execution_count": 15,
   "metadata": {},
   "outputs": [
    {
     "name": "stdout",
     "output_type": "stream",
     "text": [
      "0.20978192441001373\n",
      "[0.0179009  0.05487969 0.12722094 0.23260886 0.35447908 0.4745266\n",
      " 0.58131514 0.67062019 0.74256835 0.79889135 0.83924866]\n",
      "[0.051  0.2526 0.2326 0.1942 0.1312 0.083  0.0358 0.0146 0.0044 0.0006\n",
      " 0.    ]\n"
     ]
    }
   ],
   "source": [
    "## use estimated parameters to find LR replacement probability\n",
    "# Method 1: Simulation\n",
    "EVs = iteration(.0001,mle_params1,500,11)\n",
    "choice_prob2 = choice_prob_calc(EVs[0],mle_params1)\n",
    "choice_matrix2 = simulator(EVs[0],mle_params1,32)\n",
    "def f_state_prob(mat,state):\n",
    "    temp = mat[:,0] == state\n",
    "    count = temp.sum()\n",
    "    return count\n",
    "state_prob_sim = np.zeros(11)\n",
    "for i in range(11):\n",
    "    state_prob_sim[i]=f_state_prob(choice_matrix2,i)/5000\n",
    "LR_rep_prob1 = state_prob_sim.T.dot(choice_prob2)\n",
    "print(LR_rep_prob1)\n",
    "print(choice_prob2)\n",
    "print(state_prob_sim)"
   ]
  },
  {
   "cell_type": "code",
   "execution_count": 16,
   "metadata": {},
   "outputs": [
    {
     "name": "stdout",
     "output_type": "stream",
     "text": [
      "1.1313708498984762\n",
      "0.771069901235947\n",
      "0.5122364254700411\n",
      "0.32422545619039184\n",
      "0.19738042970476677\n",
      "0.11815879850538097\n",
      "0.06937745263274449\n",
      "0.04093419425522924\n",
      "0.025272444896325588\n",
      "0.01567993328773743\n",
      "0.009610775291223696\n",
      "0.00611550108320224\n",
      "0.003930942468217059\n",
      "0.002444574474667785\n",
      "0.0015413103907313398\n",
      "0.0009971894476064496\n",
      "LR Replacement Probability: 0.20746524901617358\n",
      "[0.0179009  0.05487969 0.12722094 0.23260886 0.35447908 0.4745266\n",
      " 0.58131514 0.67062019 0.74256835 0.79889135 0.83924866]\n",
      "[5.17284955e-02 2.55226401e-01 2.34030746e-01 1.92517642e-01\n",
      " 1.34949705e-01 7.77456335e-02 3.60370455e-02 1.31747601e-02\n",
      " 3.68885904e-03 7.66072330e-04 1.34640146e-04]\n"
     ]
    }
   ],
   "source": [
    "## use estimated parameters to find LR replacement probability\n",
    "# Method 2: Analytical\n",
    "EVs2 = iteration(.0001,mle_params1,500,11)\n",
    "choice_prob2 = choice_prob_calc(EVs2[0],mle_params1)\n",
    "markov_trans_matrix = np.zeros((11,11))\n",
    "for i in range(11):\n",
    "    chg_0 = choice_prob2[i]*.2\n",
    "    chg_1 = choice_prob2[i]*.8\n",
    "    nchg_0 = (1-choice_prob2[i])*.2\n",
    "    nchg_1 = (1-choice_prob2[i])*.8\n",
    "    if i != 10:\n",
    "        markov_trans_matrix[i,0]+=chg_0\n",
    "        markov_trans_matrix[i,1]+=chg_1\n",
    "        markov_trans_matrix[i,i]+=nchg_0\n",
    "        markov_trans_matrix[i,i+1]+=nchg_1\n",
    "    else:\n",
    "        markov_trans_matrix[i,0]+=chg_0\n",
    "        markov_trans_matrix[i,1]+=chg_1\n",
    "        markov_trans_matrix[i,i]+=nchg_0\n",
    "        markov_trans_matrix[i,i]+=nchg_1\n",
    "        \n",
    "Q_temp = np.zeros(11)\n",
    "Q_temp[0]=1\n",
    "Q = np.ones(11)\n",
    "Q_n = np.zeros(11)\n",
    "while np.linalg.norm(Q-Q_n)>.001:\n",
    "    Q=Q_temp\n",
    "    Q_n=Q.dot(markov_trans_matrix)\n",
    "    Q_temp=Q_n\n",
    "    print(np.linalg.norm(Q-Q_n))\n",
    "LR_rep_prob2 = np.sum(Q.T.dot(choice_prob2))\n",
    "print(\"LR Replacement Probability:\",LR_rep_prob2)\n",
    "print(choice_prob2)\n",
    "print(Q)"
   ]
  },
  {
   "cell_type": "code",
   "execution_count": 17,
   "metadata": {},
   "outputs": [
    {
     "name": "stdout",
     "output_type": "stream",
     "text": [
      "1.1313708498984762\n",
      "0.7552963024640309\n",
      "0.484775571278676\n",
      "0.2934703149363889\n",
      "0.1704211729029582\n",
      "0.09704618247159814\n",
      "0.05417295966821601\n",
      "0.030729076310842644\n",
      "0.018146940890706002\n",
      "0.01062380564268358\n",
      "0.006237982829623744\n",
      "0.0038112321220407164\n",
      "0.0022985250864207287\n",
      "0.0013572263120283882\n",
      "0.0008272555796061804\n",
      "LR Replacement Probability: 0.22415433480131436\n",
      "[0.02648442 0.0742138  0.15878706 0.27227959 0.39587659 0.51287249\n",
      " 0.61437016 0.69794313 0.76463577 0.81659046 0.85393682]\n",
      "[5.57505213e-02 2.73686994e-01 2.43616873e-01 1.91246605e-01\n",
      " 1.26241128e-01 6.78550714e-02 2.90391267e-02 9.64228264e-03\n",
      " 2.40628680e-03 4.42920973e-04 7.21904007e-05]\n"
     ]
    }
   ],
   "source": [
    "## Policy exercise\n",
    "# What is the effect of a 10% reduction on replacement costs on LR replacement probability\n",
    "theta_policy = mle_params1\n",
    "theta_policy[2] = mle_params1[2]*.9\n",
    "EVs3 = iteration(.0001,theta_policy,500,11)\n",
    "choice_prob3 = choice_prob_calc(EVs3[0],theta_policy)\n",
    "markov_trans_matrix = np.zeros((11,11))\n",
    "for i in range(11):\n",
    "    chg_0 = choice_prob3[i]*.2\n",
    "    chg_1 = choice_prob3[i]*.8\n",
    "    nchg_0 = (1-choice_prob3[i])*.2\n",
    "    nchg_1 = (1-choice_prob3[i])*.8\n",
    "    if i != 10:\n",
    "        markov_trans_matrix[i,0]+=chg_0\n",
    "        markov_trans_matrix[i,1]+=chg_1\n",
    "        markov_trans_matrix[i,i]+=nchg_0\n",
    "        markov_trans_matrix[i,i+1]+=nchg_1\n",
    "    else:\n",
    "        markov_trans_matrix[i,0]+=chg_0\n",
    "        markov_trans_matrix[i,1]+=chg_1\n",
    "        markov_trans_matrix[i,i]+=nchg_0\n",
    "        markov_trans_matrix[i,i]+=nchg_1\n",
    "        \n",
    "Q_temp = np.zeros(11)\n",
    "Q_temp[0]=1\n",
    "Q = np.ones(11)\n",
    "Q_n = np.zeros(11)\n",
    "while np.linalg.norm(Q-Q_n)>.001:\n",
    "    Q=Q_temp\n",
    "    Q_n=Q.dot(markov_trans_matrix)\n",
    "    Q_temp=Q_n\n",
    "    print(np.linalg.norm(Q-Q_n))\n",
    "LR_rep_prob3 = np.sum(Q.T.dot(choice_prob3))\n",
    "print(\"LR Replacement Probability:\",LR_rep_prob3)\n",
    "print(choice_prob3)\n",
    "print(Q)"
   ]
  },
  {
   "cell_type": "code",
   "execution_count": 18,
   "metadata": {},
   "outputs": [
    {
     "name": "stdout",
     "output_type": "stream",
     "text": [
      "Policy Increases LR Replacement Probability by 8.0442801212649 %\n"
     ]
    }
   ],
   "source": [
    "## Policy Effect\n",
    "print(\"Policy Increases LR Replacement Probability by\",(LR_rep_prob3-LR_rep_prob2)/LR_rep_prob2*100,\"%\")"
   ]
  }
 ],
 "metadata": {
  "kernelspec": {
   "display_name": "Python 3",
   "language": "python",
   "name": "python3"
  },
  "language_info": {
   "codemirror_mode": {
    "name": "ipython",
    "version": 3
   },
   "file_extension": ".py",
   "mimetype": "text/x-python",
   "name": "python",
   "nbconvert_exporter": "python",
   "pygments_lexer": "ipython3",
   "version": "3.6.2"
  }
 },
 "nbformat": 4,
 "nbformat_minor": 2
}
